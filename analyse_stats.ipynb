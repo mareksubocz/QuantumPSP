{
 "cells": [
  {
   "cell_type": "code",
   "execution_count": 1,
   "id": "a1dedc48-a4a6-44c2-96cd-32b39ecc6d39",
   "metadata": {},
   "outputs": [],
   "source": [
    "import pandas as pd\n",
    "import matplotlib.pyplot as plt"
   ]
  },
  {
   "cell_type": "code",
   "execution_count": 55,
   "id": "17d2383c-4528-4a17-ba28-de36ea8c7af3",
   "metadata": {},
   "outputs": [
    {
     "name": "stdout",
     "output_type": "stream",
     "text": [
      "[1.         1.         1.         1.         1.         1.\n",
      " 1.         1.         1.         1.         1.         1.\n",
      " 1.         1.         1.         1.         1.         1.\n",
      " 1.         1.         1.         1.         1.         1.\n",
      " 1.02941176 1.02941176 1.02941176 1.         1.02941176 1.02941176\n",
      " 1.         1.         1.         1.         1.         1.\n",
      " 1.         1.         1.         1.         1.         1.\n",
      " 1.         1.         1.         1.         1.         1.\n",
      " 1.05128205 1.05128205 1.025      1.05128205 1.07894737 1.\n",
      " 1.         1.         1.         1.02702703 1.         1.\n",
      " 1.         1.         1.         1.         1.         1.\n",
      " 1.         1.         1.         1.         1.         1.        ]\n",
      "Index(['rcpspdc101.rcp', 'rcpspdc101.rcp', 'rcpspdc101.rcp', 'rcpspdc101.rcp',\n",
      "       'rcpspdc101.rcp', 'rcpspdc101.rcp', 'rcpspdc18.rcp', 'rcpspdc18.rcp',\n",
      "       'rcpspdc18.rcp', 'rcpspdc18.rcp', 'rcpspdc18.rcp', 'rcpspdc18.rcp',\n",
      "       'rcpspdc247.rcp', 'rcpspdc247.rcp', 'rcpspdc247.rcp', 'rcpspdc247.rcp',\n",
      "       'rcpspdc247.rcp', 'rcpspdc247.rcp', 'rcpspdc341.rcp', 'rcpspdc341.rcp',\n",
      "       'rcpspdc341.rcp', 'rcpspdc341.rcp', 'rcpspdc341.rcp', 'rcpspdc341.rcp',\n",
      "       'rcpspdc392.rcp', 'rcpspdc392.rcp', 'rcpspdc392.rcp', 'rcpspdc392.rcp',\n",
      "       'rcpspdc392.rcp', 'rcpspdc392.rcp', 'rcpspdc436.rcp', 'rcpspdc436.rcp',\n",
      "       'rcpspdc436.rcp', 'rcpspdc436.rcp', 'rcpspdc436.rcp', 'rcpspdc436.rcp',\n",
      "       'rcpspdc505.rcp', 'rcpspdc505.rcp', 'rcpspdc505.rcp', 'rcpspdc505.rcp',\n",
      "       'rcpspdc505.rcp', 'rcpspdc505.rcp', 'rcpspdc536.rcp', 'rcpspdc536.rcp',\n",
      "       'rcpspdc536.rcp', 'rcpspdc536.rcp', 'rcpspdc536.rcp', 'rcpspdc536.rcp',\n",
      "       'rcpspdc552.rcp', 'rcpspdc552.rcp', 'rcpspdc552.rcp', 'rcpspdc552.rcp',\n",
      "       'rcpspdc552.rcp', 'rcpspdc552.rcp', 'rcpspdc588.rcp', 'rcpspdc588.rcp',\n",
      "       'rcpspdc588.rcp', 'rcpspdc588.rcp', 'rcpspdc588.rcp', 'rcpspdc588.rcp',\n",
      "       'rcpspdc670.rcp', 'rcpspdc670.rcp', 'rcpspdc670.rcp', 'rcpspdc670.rcp',\n",
      "       'rcpspdc670.rcp', 'rcpspdc670.rcp', 'rcpspdc706.rcp', 'rcpspdc706.rcp',\n",
      "       'rcpspdc706.rcp', 'rcpspdc706.rcp', 'rcpspdc706.rcp', 'rcpspdc706.rcp'],\n",
      "      dtype='object', name='instance')\n"
     ]
    }
   ],
   "source": [
    "df = pd.read_csv('~/it/QuantumPSP/stats.csv')\n",
    "df = df.sort_values('instance')\n",
    "df_10 = df[df['limit'] == 10]\n",
    "df_10.set_index('instance', inplace=True)\n",
    "df = df.set_index('instance')\n",
    "df_10\n",
    "\n",
    "# df['improvement'] = df['limit'] \n",
    "\n",
    "df['improvement'] = (df_10['result'].div(df['result'])).values\n",
    "# data['percent_improvement'] = data.apply(lambda row: ((limit_10_results[row['instance']] - row['result']) / limit_10_results[row['instance']]) * 100, axis=1)\n",
    "# display(df_10['result'])\n",
    "# df['improvement'] = df.apply(lambda row: row['result'] - df_10['result'].iloc[row['instance']])\n",
    "print(df['improvement'].values)\n",
    "print(df.index)"
   ]
  }
 ],
 "metadata": {
  "kernelspec": {
   "display_name": "Python 3 (ipykernel)",
   "language": "python",
   "name": "python3"
  },
  "language_info": {
   "codemirror_mode": {
    "name": "ipython",
    "version": 3
   },
   "file_extension": ".py",
   "mimetype": "text/x-python",
   "name": "python",
   "nbconvert_exporter": "python",
   "pygments_lexer": "ipython3",
   "version": "3.10.8"
  }
 },
 "nbformat": 4,
 "nbformat_minor": 5
}
